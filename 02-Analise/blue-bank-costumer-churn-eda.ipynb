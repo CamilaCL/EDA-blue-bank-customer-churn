{
 "cells": [
  {
   "cell_type": "markdown",
   "id": "84469e63",
   "metadata": {
    "ExecuteTime": {
     "end_time": "2024-09-03T17:49:17.269585Z",
     "start_time": "2024-09-03T17:49:17.266818Z"
    },
    "code_folding": []
   },
   "source": [
    "## <p style=\"background-color:#14274C; font-family:Montserrat; color:#8BD5EA; font-size:150%; text-align:center; border-radius:10px 10px; margin-bottom: -15px;\"><strong>ANÁLISE EXPLORATÓRIA DE CHURN DO BLUE BANK</strong></p>"
   ]
  },
  {
   "cell_type": "markdown",
   "id": "3b9ce06f",
   "metadata": {
    "ExecuteTime": {
     "end_time": "2024-09-03T17:53:25.124928Z",
     "start_time": "2024-09-03T17:53:25.121600Z"
    }
   },
   "source": [
    "<p align=\"center\">\n",
    "  <img src=\"../03-Recursos/churn.jpg\" alt=\"Churn Analysis\" width=\"600\"/>\n",
    "</p>"
   ]
  },
  {
   "cell_type": "markdown",
   "id": "045dd0d8",
   "metadata": {},
   "source": [
    "<div style=\"font-family: Montserrat; color:#14274C; background-color:#D2E0E9; border-radius:12px 12px;\">\n",
    "\n",
    "## <p style=\"background-color:#14274C; font-family:Montserrat; color:#8BD5EA; font-size:150%; text-align:center; border-radius:10px 10px; margin-bottom: -15px;\"><strong>SUMÁRIO</strong></p>\n",
    "\n",
    "[<p style=\"background-color:#14274C; font-family:Montserrat; font-size:120%; text-align:left; border-radius:10px 10px; padding-left: 50px; margin-bottom: -20px;\"><strong><span style=\"color:#8BD5EA\">1. INTRODUÇÃO 🚀</span></strong></p>](#1) <br>\n",
    "\n",
    "[<p style=\"background-color:#14274C; font-family:Montserrat; font-size:120%; text-align:left; border-radius:10px 10px; padding-left: 50px; margin-bottom: -20px;\"><strong><span style=\"color:#8BD5EA\">2. OBJETIVO 🎯</span></strong></p>](#2) <br>\n",
    "    \n",
    "[<p style=\"background-color:#14274C; font-family:Montserrat; font-size:120%; text-align:left; border-radius:10px 10px; padding-left: 50px; margin-bottom: -20px;\"><strong><span style=\"color:#8BD5EA\">3. IMPORTAÇÃO DE BIBLIOTECAS 📚</span></strong></p>](#3) <br>\n",
    "\n",
    "[<p style=\"background-color:#14274C; font-family:Montserrat; font-size:120%; text-align:left; border-radius:10px 10px; padding-left: 50px; margin-bottom: -20px;\"><strong><span style=\"color:#8BD5EA\">4. CARREGAMENTO DOS DADOS 🔄</span></strong></p>](#4) <br> \n",
    "\n",
    "[<p style=\"background-color:#14274C; font-family:Montserrat; font-size:120%; text-align:left; border-radius:10px 10px; padding-left: 50px; margin-bottom: -20px;\"><strong><span style=\"color:#8BD5EA\">5. LIMPEZA E PRÉ-PROCESSAMENTO DOS DADOS 🔍</span></strong></p>](#5) <br> \n",
    "    \n",
    "[<p style=\"background-color:#14274C; font-family:Montserrat; font-size:120%; text-align:left; border-radius:10px 10px; padding-left: 50px; margin-bottom: -20px;\"><strong><span style=\"color:#8BD5EA\">6. ANÁLISE EXPLORATÓRIA DE DADOS (EDA) 💡</span></strong></p>](#6) <br> \n",
    "\n",
    "[<p style=\"background-color:#14274C; font-family:Montserrat; font-size:120%; text-align:left; border-radius:10px 10px; padding-left: 50px; margin-bottom: -20px;\"><strong><span style=\"color:#8BD5EA\">7. INSIGHTS E CONCLUSÕES 📊</span></strong></p>](#7) <br>\n",
    "\n",
    "[<p style=\"background-color:#14274C; font-family:Montserrat; font-size:120%; text-align:left; border-radius:10px 10px; padding-left: 50px; margin-bottom: -20px;\"><strong><span style=\"color:#8BD5EA\">8. RECOMENDAÇÕES 📝</span></strong></p>](#8) <br> \n",
    "\n",
    "[<p style=\"background-color:#14274C; font-family:Montserrat; font-size:120%; text-align:left; border-radius:10px 10px; padding-left: 50px; margin-bottom: -20px;\"><strong><span style=\"color:#8BD5EA\">9. CONCLUSÃO 🏁</span></strong></p>](#9) <br>"
   ]
  },
  {
   "cell_type": "markdown",
   "id": "9844e82f",
   "metadata": {},
   "source": [
    "<div style=\"font-family: Montserrat; color:#14274C; background-color:#D2E0E9; border-radius:12px 12px;\">  <a id=\"1\"></a> \n",
    "\n",
    "## <p style=\"background-color:#14274C; font-family:Montserrat; color:#8BD5EA; font-size:80%; text-align:left; border-radius:10px 10px; margin-bottom: -25px; padding-left: 75px;\"><strong>1. INTRODUÇÃO 🚀</strong></p>\n",
    "    \n",
    "- **Este projeto de Análise de Churn do Blue Bank tem como objetivo explorar e analisar o comportamento dos clientes do banco para identificar os principais fatores que influenciam suas decisões de permanecer ou deixar o banco. O conjunto de dados utilizado foi obtido do Kaggle (disponível no link <https://www.kaggle.com/datasets/mathchi/churn-for-bank-customers>) e contém informações diversas sobre os clientes, tais como idade, saldo bancário, status de membro ativo, número de produtos, possibilidade de churn, entre outros. A descrição detalhada de cada uma das colunas será abordada na seção de Limpeza e Pré-processamento dos Dados.**\n",
    "\n",
    "    <!-- - ***RowNumber*: Número do registro (linha) no dataset, usado apenas como índice;**\n",
    "    - ***CustomerId*: Identificador único do cliente no banco, crucial para identificação individual;**\n",
    "    - ***Surname*: Sobrenome do cliente, não tem impacto direto na análise;**\n",
    "    - ***CreditScore*: Pontuação de crédito do cliente, indicando sua solvência e potencial risco financeiro;**\n",
    "    - ***Geography*: País de residência do cliente, importante para análise regional de churn;**\n",
    "    - ***Gender*: Gênero do cliente, útil para análise demográfica;**\n",
    "    - ***Age*: Idade do cliente, um fator significativo na decisão de produtos bancários;**\n",
    "    - ***Tenure*: Número de anos que o cliente está com o banco, indicativo de lealdade e satisfação;**\n",
    "    - ***Balance*: Saldo atual na conta bancária do cliente, pode indicar satisfação com o banco;**\n",
    "    - ***NumOfProducts*: Número de produtos bancários que o cliente utiliza, reflete a profundidade do relacionamento;**\n",
    "    - ***HasCrCard*: Indica se o cliente possui um cartão de crédito (1 = Sim, 0 = Não), relevante para serviços cruzados;**\n",
    "    - ***IsActiveMember*: Indica se o cliente é um membro ativo (1 = Sim, 0 = Não), importante para engajamento;**\n",
    "    - ***EstimatedSalary*: Salário estimado anual do cliente, correlaciona com potencial de investimento;**\n",
    "    - ***Exited*: Indica se o cliente deixou o banco (1 = Sim, 0 = Não), variável-alvo para análise de churn.** -->"
   ]
  },
  {
   "cell_type": "markdown",
   "id": "90f8de92",
   "metadata": {},
   "source": [
    "<div style=\"font-family: Montserrat; color:#14274C; background-color:#D2E0E9; border-radius:12px 12px;\">  <a id=\"2\"></a> \n",
    "\n",
    "## <p style=\"background-color:#14274C; font-family:Montserrat; color:#8BD5EA; font-size:80%; text-align:left; border-radius:10px 10px; margin-bottom: -25px; padding-left: 75px;\"><strong>2. OBJETIVO  🎯</strong></p>\n",
    "\n",
    "- **O objetivo principal deste projeto é conduzir uma Análise Exploratória de Dados (EDA) sobre o conjunto de dados de churn dos clientes do Blue Bank. A análise busca identificar padrões e insights que possam explicar os fatores que influenciam os clientes a deixarem o banco. Especificamente, a análise se concentrará em responder as seguintes perguntas de negócio:**\n",
    "\n",
    "    - **Como características como idade, saldo bancário, número de produtos e atividade do membro impactam a probabilidade de churn dos clientes?**\n",
    "    - **Existe uma correlação entre a geografia dos clientes e suas taxas de churn?**\n",
    "    - **Os clientes com cartão de crédito são mais propensos a permanecer no banco comparado aos que não possuem?**\n",
    "    - **Qual o impacto do salário estimado na decisão do cliente de permanecer ou deixar o banco?**\n",
    "    - **O tempo de relacionamento com o banco (tenure) impacta a lealdade dos clientes?**\n",
    "    - **Como a idade dos clientes afeta a probabilidade de sair do banco?**\n",
    "    - **Comparar a taxa de churn entre clientes ativos e inativos.**\n",
    "    - **O país de origem dos clientes influencia na decisão de sair?**\n",
    "    - **Analisar se clientes com mais produtos tendem a ser mais leais ao banco.**\n",
    "    - **Existe uma relação entre a pontuação de crédito e a taxa de churn?**\n",
    "    - **Avaliar se clientes com maior pontuação de crédito são mais propensos a permanecer no banco.**\n",
    "    - **Investigar a correlação entre o salário estimado e a retenção.**\n",
    "    - **O banco está perdendo mais clientes em algum grupo específico (idade, país, gênero)?**\n",
    "    - **Traçar o perfil dos clientes do banco no geral.**\n",
    "\n",
    "- **Essas perguntas visam descobrir oportunidades para o Blue Bank aprimorar suas estratégias de retenção de clientes, oferecendo insights valiosos que podem ser utilizados para reduzir a taxa de churn e melhorar a satisfação geral do cliente.**"
   ]
  },
  {
   "cell_type": "markdown",
   "id": "87e6bfb6",
   "metadata": {},
   "source": [
    "<div style=\"font-family: Montserrat; color:#14274C; background-color:#D2E0E9; border-radius:12px 12px;\">  <a id=\"3\"></a> \n",
    "\n",
    "## <p style=\"background-color:#14274C; font-family:Montserrat; color:#8BD5EA; font-size:80%; text-align:left; border-radius:10px 10px; margin-bottom: -25px; padding-left: 75px;\"><strong>3. IMPORTAÇÃO DE BIBLIOTECAS E CONFIGURAÇÃO DE ESTILO 📚</strong></p>\n",
    "\n",
    "- **Nesta seção, importamos todas as bibliotecas essenciais para a execução da análise de dados, como Pandas, Matplotlib, Seaborn e NumPy, que são fundamentais para a manipulação de dados, visualização e análise estatística. Adicionalmente, configuramos estilos visuais para assegurar que todas as visualizações sejam consistentes e reflitam a identidade visual do Blue Bank, utilizando uma paleta de cores em tons de azul. Além disso, exibimos as versões de cada biblioteca utilizada para garantir a reprodutibilidade e documentação do ambiente de desenvolvimento.**"
   ]
  },
  {
   "cell_type": "code",
   "execution_count": 65,
   "id": "29cad045",
   "metadata": {
    "ExecuteTime": {
     "end_time": "2024-09-03T19:08:51.708118Z",
     "start_time": "2024-09-03T19:08:50.392941Z"
    }
   },
   "outputs": [
    {
     "name": "stdout",
     "output_type": "stream",
     "text": [
      "Versões das Bibliotecas:\n",
      "\n",
      "Biblioteca           |     Versão\n",
      "Pandas               |      2.1.1\n",
      "Matplotlib           |      3.8.0\n",
      "Seaborn              |     0.13.2\n",
      "NumPy                |     1.26.0\n",
      "\n",
      "Versão do Python:\n",
      "3.12.0\n"
     ]
    }
   ],
   "source": [
    "import pandas as pd\n",
    "import matplotlib.pyplot as plt\n",
    "import seaborn as sns\n",
    "import numpy as np\n",
    "from platform import python_version\n",
    "\n",
    "# Configuração de estilos visuais para os gráficos\n",
    "sns.set(style = \"whitegrid\")  # Define o estilo do Seaborn para melhor visualização\n",
    "blue_palette = sns.color_palette(\"Blues\")  # Cria uma paleta de cores em tons de azul\n",
    "sns.set_palette(blue_palette)  # Aplica a paleta de cores aos gráficos\n",
    "\n",
    "# Tabela de versões das bibliotecas e do Python\n",
    "library_versions = {\n",
    "    \"Pandas\": pd.__version__,\n",
    "    \"Matplotlib\": matplotlib.__version__,\n",
    "    \"Seaborn\": sns.__version__,\n",
    "    \"NumPy\": np.__version__\n",
    "}\n",
    "\n",
    "# Exibindo as versões das bibliotecas\n",
    "print(\"Versões das Bibliotecas:\\n\")\n",
    "print(f\"{'Biblioteca':<20} | {'Versão':>10}\")\n",
    "for nome, versao in library_versions.items():\n",
    "    print(f\"{nome:<20} | {versao:>10}\")\n",
    "\n",
    "# Versão do Python\n",
    "print(\"\\nVersão do Python:\")\n",
    "print(python_version())"
   ]
  },
  {
   "cell_type": "markdown",
   "id": "91c7f878",
   "metadata": {},
   "source": [
    "<div style=\"font-family: Montserrat; color:#14274C; background-color:#D2E0E9; border-radius:12px 12px;\">  <a id=\"4\"></a> \n",
    "\n",
    "## <p style=\"background-color:#14274C; font-family:Montserrat; color:#8BD5EA; font-size:80%; text-align:left; border-radius:10px 10px; margin-bottom: -25px; padding-left: 75px;\"><strong>4. CARREGAMENTO DOS DADOS 🔄</strong></p>\n",
    "\n",
    "- **Nesta seção, carregamos o conjunto de dados do Blue Bank, que contém informações detalhadas sobre os clientes e seus status de churn. Este passo é crucial para começar a nossa análise exploratória.**"
   ]
  },
  {
   "cell_type": "code",
   "execution_count": 39,
   "id": "39ecc8b3",
   "metadata": {
    "ExecuteTime": {
     "end_time": "2024-09-03T19:08:51.736712Z",
     "start_time": "2024-09-03T19:08:51.709120Z"
    }
   },
   "outputs": [
    {
     "data": {
      "text/html": [
       "<div>\n",
       "<style scoped>\n",
       "    .dataframe tbody tr th:only-of-type {\n",
       "        vertical-align: middle;\n",
       "    }\n",
       "\n",
       "    .dataframe tbody tr th {\n",
       "        vertical-align: top;\n",
       "    }\n",
       "\n",
       "    .dataframe thead th {\n",
       "        text-align: right;\n",
       "    }\n",
       "</style>\n",
       "<table border=\"1\" class=\"dataframe\">\n",
       "  <thead>\n",
       "    <tr style=\"text-align: right;\">\n",
       "      <th></th>\n",
       "      <th>RowNumber</th>\n",
       "      <th>CustomerId</th>\n",
       "      <th>Surname</th>\n",
       "      <th>CreditScore</th>\n",
       "      <th>Geography</th>\n",
       "      <th>Gender</th>\n",
       "      <th>Age</th>\n",
       "      <th>Tenure</th>\n",
       "      <th>Balance</th>\n",
       "      <th>NumOfProducts</th>\n",
       "      <th>HasCrCard</th>\n",
       "      <th>IsActiveMember</th>\n",
       "      <th>EstimatedSalary</th>\n",
       "      <th>Exited</th>\n",
       "    </tr>\n",
       "  </thead>\n",
       "  <tbody>\n",
       "    <tr>\n",
       "      <th>0</th>\n",
       "      <td>1</td>\n",
       "      <td>15634602</td>\n",
       "      <td>Hargrave</td>\n",
       "      <td>619</td>\n",
       "      <td>France</td>\n",
       "      <td>Female</td>\n",
       "      <td>42</td>\n",
       "      <td>2</td>\n",
       "      <td>0.00</td>\n",
       "      <td>1</td>\n",
       "      <td>1</td>\n",
       "      <td>1</td>\n",
       "      <td>101348.88</td>\n",
       "      <td>1</td>\n",
       "    </tr>\n",
       "    <tr>\n",
       "      <th>1</th>\n",
       "      <td>2</td>\n",
       "      <td>15647311</td>\n",
       "      <td>Hill</td>\n",
       "      <td>608</td>\n",
       "      <td>Spain</td>\n",
       "      <td>Female</td>\n",
       "      <td>41</td>\n",
       "      <td>1</td>\n",
       "      <td>83807.86</td>\n",
       "      <td>1</td>\n",
       "      <td>0</td>\n",
       "      <td>1</td>\n",
       "      <td>112542.58</td>\n",
       "      <td>0</td>\n",
       "    </tr>\n",
       "    <tr>\n",
       "      <th>2</th>\n",
       "      <td>3</td>\n",
       "      <td>15619304</td>\n",
       "      <td>Onio</td>\n",
       "      <td>502</td>\n",
       "      <td>France</td>\n",
       "      <td>Female</td>\n",
       "      <td>42</td>\n",
       "      <td>8</td>\n",
       "      <td>159660.80</td>\n",
       "      <td>3</td>\n",
       "      <td>1</td>\n",
       "      <td>0</td>\n",
       "      <td>113931.57</td>\n",
       "      <td>1</td>\n",
       "    </tr>\n",
       "    <tr>\n",
       "      <th>3</th>\n",
       "      <td>4</td>\n",
       "      <td>15701354</td>\n",
       "      <td>Boni</td>\n",
       "      <td>699</td>\n",
       "      <td>France</td>\n",
       "      <td>Female</td>\n",
       "      <td>39</td>\n",
       "      <td>1</td>\n",
       "      <td>0.00</td>\n",
       "      <td>2</td>\n",
       "      <td>0</td>\n",
       "      <td>0</td>\n",
       "      <td>93826.63</td>\n",
       "      <td>0</td>\n",
       "    </tr>\n",
       "    <tr>\n",
       "      <th>4</th>\n",
       "      <td>5</td>\n",
       "      <td>15737888</td>\n",
       "      <td>Mitchell</td>\n",
       "      <td>850</td>\n",
       "      <td>Spain</td>\n",
       "      <td>Female</td>\n",
       "      <td>43</td>\n",
       "      <td>2</td>\n",
       "      <td>125510.82</td>\n",
       "      <td>1</td>\n",
       "      <td>1</td>\n",
       "      <td>1</td>\n",
       "      <td>79084.10</td>\n",
       "      <td>0</td>\n",
       "    </tr>\n",
       "  </tbody>\n",
       "</table>\n",
       "</div>"
      ],
      "text/plain": [
       "   RowNumber  CustomerId   Surname  CreditScore Geography  Gender  Age  \\\n",
       "0          1    15634602  Hargrave          619    France  Female   42   \n",
       "1          2    15647311      Hill          608     Spain  Female   41   \n",
       "2          3    15619304      Onio          502    France  Female   42   \n",
       "3          4    15701354      Boni          699    France  Female   39   \n",
       "4          5    15737888  Mitchell          850     Spain  Female   43   \n",
       "\n",
       "   Tenure    Balance  NumOfProducts  HasCrCard  IsActiveMember  \\\n",
       "0       2       0.00              1          1               1   \n",
       "1       1   83807.86              1          0               1   \n",
       "2       8  159660.80              3          1               0   \n",
       "3       1       0.00              2          0               0   \n",
       "4       2  125510.82              1          1               1   \n",
       "\n",
       "   EstimatedSalary  Exited  \n",
       "0        101348.88       1  \n",
       "1        112542.58       0  \n",
       "2        113931.57       1  \n",
       "3         93826.63       0  \n",
       "4         79084.10       0  "
      ]
     },
     "execution_count": 39,
     "metadata": {},
     "output_type": "execute_result"
    }
   ],
   "source": [
    "# Carregando os dados do arquivo CSV\n",
    "data_path = \"../01-Base-de-Dados/blue-bank-churn.csv\"  # Caminho da pasta com arquivo de análise\n",
    "df = pd.read_csv(data_path)\n",
    "\n",
    "# Exibindo as primeiras linhas do DataFrame para verificar a importação\n",
    "df.head()"
   ]
  },
  {
   "cell_type": "code",
   "execution_count": 3,
   "id": "dce2a18d",
   "metadata": {
    "ExecuteTime": {
     "end_time": "2024-09-03T19:08:51.748730Z",
     "start_time": "2024-09-03T19:08:51.738715Z"
    }
   },
   "outputs": [
    {
     "name": "stdout",
     "output_type": "stream",
     "text": [
      "<class 'pandas.core.frame.DataFrame'>\n",
      "RangeIndex: 10000 entries, 0 to 9999\n",
      "Data columns (total 14 columns):\n",
      " #   Column           Non-Null Count  Dtype  \n",
      "---  ------           --------------  -----  \n",
      " 0   RowNumber        10000 non-null  int64  \n",
      " 1   CustomerId       10000 non-null  int64  \n",
      " 2   Surname          10000 non-null  object \n",
      " 3   CreditScore      10000 non-null  int64  \n",
      " 4   Geography        10000 non-null  object \n",
      " 5   Gender           10000 non-null  object \n",
      " 6   Age              10000 non-null  int64  \n",
      " 7   Tenure           10000 non-null  int64  \n",
      " 8   Balance          10000 non-null  float64\n",
      " 9   NumOfProducts    10000 non-null  int64  \n",
      " 10  HasCrCard        10000 non-null  int64  \n",
      " 11  IsActiveMember   10000 non-null  int64  \n",
      " 12  EstimatedSalary  10000 non-null  float64\n",
      " 13  Exited           10000 non-null  int64  \n",
      "dtypes: float64(2), int64(9), object(3)\n",
      "memory usage: 1.1+ MB\n"
     ]
    }
   ],
   "source": [
    "# Exibindo informações básicas sobre o DataFrame para entender a estrutura dos dados\n",
    "df.info()"
   ]
  },
  {
   "cell_type": "markdown",
   "id": "463c6d4f",
   "metadata": {},
   "source": [
    "<div style=\"font-family: Montserrat; color:#14274C; background-color:#D2E0E9; border-radius:12px 12px;\">  <a id=\"5\"></a> \n",
    "\n",
    "## <p style=\"background-color:#14274C; font-family:Montserrat; color:#8BD5EA; font-size:80%; text-align:left; border-radius:10px 10px; margin-bottom: -25px; padding-left: 75px;\"><strong>5. LIMPEZA E PRÉ-PROCESSAMENTO DOS DADOS 🔍</strong></p>\n",
    "\n",
    "- **Antes de iniciar a análise exploratória, é essencial garantir que os dados estejam limpos e bem formatados. Esta seção aborda a limpeza de dados, tratamento de valores nulos, correção de tipos de dados e qualquer outra transformação necessária para preparar o dataset. Estas etapas são cruciais para garantir a qualidade e precisão das análises subsequentes.**"
   ]
  },
  {
   "cell_type": "code",
   "execution_count": 4,
   "id": "5a8df7c7",
   "metadata": {
    "ExecuteTime": {
     "end_time": "2024-09-03T19:08:51.760548Z",
     "start_time": "2024-09-03T19:08:51.750733Z"
    }
   },
   "outputs": [
    {
     "data": {
      "text/html": [
       "<div>\n",
       "<style scoped>\n",
       "    .dataframe tbody tr th:only-of-type {\n",
       "        vertical-align: middle;\n",
       "    }\n",
       "\n",
       "    .dataframe tbody tr th {\n",
       "        vertical-align: top;\n",
       "    }\n",
       "\n",
       "    .dataframe thead th {\n",
       "        text-align: right;\n",
       "    }\n",
       "</style>\n",
       "<table border=\"1\" class=\"dataframe\">\n",
       "  <thead>\n",
       "    <tr style=\"text-align: right;\">\n",
       "      <th></th>\n",
       "      <th>RowNumber</th>\n",
       "      <th>CustomerId</th>\n",
       "      <th>Surname</th>\n",
       "      <th>CreditScore</th>\n",
       "      <th>Geography</th>\n",
       "      <th>Gender</th>\n",
       "      <th>Age</th>\n",
       "      <th>Tenure</th>\n",
       "      <th>Balance</th>\n",
       "      <th>NumOfProducts</th>\n",
       "      <th>HasCrCard</th>\n",
       "      <th>IsActiveMember</th>\n",
       "      <th>EstimatedSalary</th>\n",
       "      <th>Exited</th>\n",
       "    </tr>\n",
       "  </thead>\n",
       "  <tbody>\n",
       "    <tr>\n",
       "      <th>0</th>\n",
       "      <td>1</td>\n",
       "      <td>15634602</td>\n",
       "      <td>Hargrave</td>\n",
       "      <td>619</td>\n",
       "      <td>France</td>\n",
       "      <td>Female</td>\n",
       "      <td>42</td>\n",
       "      <td>2</td>\n",
       "      <td>0.00</td>\n",
       "      <td>1</td>\n",
       "      <td>1</td>\n",
       "      <td>1</td>\n",
       "      <td>101348.88</td>\n",
       "      <td>1</td>\n",
       "    </tr>\n",
       "    <tr>\n",
       "      <th>1</th>\n",
       "      <td>2</td>\n",
       "      <td>15647311</td>\n",
       "      <td>Hill</td>\n",
       "      <td>608</td>\n",
       "      <td>Spain</td>\n",
       "      <td>Female</td>\n",
       "      <td>41</td>\n",
       "      <td>1</td>\n",
       "      <td>83807.86</td>\n",
       "      <td>1</td>\n",
       "      <td>0</td>\n",
       "      <td>1</td>\n",
       "      <td>112542.58</td>\n",
       "      <td>0</td>\n",
       "    </tr>\n",
       "    <tr>\n",
       "      <th>2</th>\n",
       "      <td>3</td>\n",
       "      <td>15619304</td>\n",
       "      <td>Onio</td>\n",
       "      <td>502</td>\n",
       "      <td>France</td>\n",
       "      <td>Female</td>\n",
       "      <td>42</td>\n",
       "      <td>8</td>\n",
       "      <td>159660.80</td>\n",
       "      <td>3</td>\n",
       "      <td>1</td>\n",
       "      <td>0</td>\n",
       "      <td>113931.57</td>\n",
       "      <td>1</td>\n",
       "    </tr>\n",
       "    <tr>\n",
       "      <th>3</th>\n",
       "      <td>4</td>\n",
       "      <td>15701354</td>\n",
       "      <td>Boni</td>\n",
       "      <td>699</td>\n",
       "      <td>France</td>\n",
       "      <td>Female</td>\n",
       "      <td>39</td>\n",
       "      <td>1</td>\n",
       "      <td>0.00</td>\n",
       "      <td>2</td>\n",
       "      <td>0</td>\n",
       "      <td>0</td>\n",
       "      <td>93826.63</td>\n",
       "      <td>0</td>\n",
       "    </tr>\n",
       "    <tr>\n",
       "      <th>4</th>\n",
       "      <td>5</td>\n",
       "      <td>15737888</td>\n",
       "      <td>Mitchell</td>\n",
       "      <td>850</td>\n",
       "      <td>Spain</td>\n",
       "      <td>Female</td>\n",
       "      <td>43</td>\n",
       "      <td>2</td>\n",
       "      <td>125510.82</td>\n",
       "      <td>1</td>\n",
       "      <td>1</td>\n",
       "      <td>1</td>\n",
       "      <td>79084.10</td>\n",
       "      <td>0</td>\n",
       "    </tr>\n",
       "  </tbody>\n",
       "</table>\n",
       "</div>"
      ],
      "text/plain": [
       "   RowNumber  CustomerId   Surname  CreditScore Geography  Gender  Age  \\\n",
       "0          1    15634602  Hargrave          619    France  Female   42   \n",
       "1          2    15647311      Hill          608     Spain  Female   41   \n",
       "2          3    15619304      Onio          502    France  Female   42   \n",
       "3          4    15701354      Boni          699    France  Female   39   \n",
       "4          5    15737888  Mitchell          850     Spain  Female   43   \n",
       "\n",
       "   Tenure    Balance  NumOfProducts  HasCrCard  IsActiveMember  \\\n",
       "0       2       0.00              1          1               1   \n",
       "1       1   83807.86              1          0               1   \n",
       "2       8  159660.80              3          1               0   \n",
       "3       1       0.00              2          0               0   \n",
       "4       2  125510.82              1          1               1   \n",
       "\n",
       "   EstimatedSalary  Exited  \n",
       "0        101348.88       1  \n",
       "1        112542.58       0  \n",
       "2        113931.57       1  \n",
       "3         93826.63       0  \n",
       "4         79084.10       0  "
      ]
     },
     "execution_count": 4,
     "metadata": {},
     "output_type": "execute_result"
    }
   ],
   "source": [
    "#Exibição do Dataframe atual para avaliarmos possíveis mudanças:\n",
    "df.head()"
   ]
  },
  {
   "cell_type": "code",
   "execution_count": 40,
   "id": "0b52de05",
   "metadata": {
    "ExecuteTime": {
     "end_time": "2024-09-03T19:08:51.772583Z",
     "start_time": "2024-09-03T19:08:51.760548Z"
    }
   },
   "outputs": [
    {
     "data": {
      "text/html": [
       "<div>\n",
       "<style scoped>\n",
       "    .dataframe tbody tr th:only-of-type {\n",
       "        vertical-align: middle;\n",
       "    }\n",
       "\n",
       "    .dataframe tbody tr th {\n",
       "        vertical-align: top;\n",
       "    }\n",
       "\n",
       "    .dataframe thead th {\n",
       "        text-align: right;\n",
       "    }\n",
       "</style>\n",
       "<table border=\"1\" class=\"dataframe\">\n",
       "  <thead>\n",
       "    <tr style=\"text-align: right;\">\n",
       "      <th></th>\n",
       "      <th>Coluna</th>\n",
       "      <th>Descrição</th>\n",
       "    </tr>\n",
       "  </thead>\n",
       "  <tbody>\n",
       "    <tr>\n",
       "      <th>0</th>\n",
       "      <td>RowNumber</td>\n",
       "      <td>Número do registro (linha) no dataset, usado apenas como índice.</td>\n",
       "    </tr>\n",
       "    <tr>\n",
       "      <th>1</th>\n",
       "      <td>CustomerId</td>\n",
       "      <td>Identificador único do cliente no banco, crucial para identificação individual.</td>\n",
       "    </tr>\n",
       "    <tr>\n",
       "      <th>2</th>\n",
       "      <td>Surname</td>\n",
       "      <td>Sobrenome do cliente, não tem impacto direto na análise.</td>\n",
       "    </tr>\n",
       "    <tr>\n",
       "      <th>3</th>\n",
       "      <td>CreditScore</td>\n",
       "      <td>Pontuação de crédito do cliente, indicando sua solvência e potencial risco financeiro.</td>\n",
       "    </tr>\n",
       "    <tr>\n",
       "      <th>4</th>\n",
       "      <td>Geography</td>\n",
       "      <td>País de residência do cliente, importante para análise regional de churn.</td>\n",
       "    </tr>\n",
       "    <tr>\n",
       "      <th>5</th>\n",
       "      <td>Gender</td>\n",
       "      <td>Gênero do cliente, útil para análise demográfica.</td>\n",
       "    </tr>\n",
       "    <tr>\n",
       "      <th>6</th>\n",
       "      <td>Age</td>\n",
       "      <td>Idade do cliente, um fator significativo na decisão de produtos bancários.</td>\n",
       "    </tr>\n",
       "    <tr>\n",
       "      <th>7</th>\n",
       "      <td>Tenure</td>\n",
       "      <td>Número de anos que o cliente está com o banco, indicativo de lealdade e satisfação.</td>\n",
       "    </tr>\n",
       "    <tr>\n",
       "      <th>8</th>\n",
       "      <td>Balance</td>\n",
       "      <td>Saldo atual na conta bancária do cliente, pode indicar satisfação com o banco.</td>\n",
       "    </tr>\n",
       "    <tr>\n",
       "      <th>9</th>\n",
       "      <td>NumOfProducts</td>\n",
       "      <td>Número de produtos bancários que o cliente utiliza, reflete a profundidade do relacionamento.</td>\n",
       "    </tr>\n",
       "    <tr>\n",
       "      <th>10</th>\n",
       "      <td>HasCrCard</td>\n",
       "      <td>Indica se o cliente possui um cartão de crédito (1 = Sim, 0 = Não), relevante para serviços cruzados.</td>\n",
       "    </tr>\n",
       "    <tr>\n",
       "      <th>11</th>\n",
       "      <td>IsActiveMember</td>\n",
       "      <td>Indica se o cliente é um membro ativo (1 = Sim, 0 = Não), importante para engajamento.</td>\n",
       "    </tr>\n",
       "    <tr>\n",
       "      <th>12</th>\n",
       "      <td>EstimatedSalary</td>\n",
       "      <td>Salário estimado anual do cliente, correlaciona com potencial de investimento.</td>\n",
       "    </tr>\n",
       "    <tr>\n",
       "      <th>13</th>\n",
       "      <td>Exited</td>\n",
       "      <td>Indica se o cliente deixou o banco (1 = Sim, 0 = Não), variável-alvo para análise de churn.</td>\n",
       "    </tr>\n",
       "  </tbody>\n",
       "</table>\n",
       "</div>"
      ],
      "text/plain": [
       "             Coluna  \\\n",
       "0         RowNumber   \n",
       "1        CustomerId   \n",
       "2           Surname   \n",
       "3       CreditScore   \n",
       "4         Geography   \n",
       "5            Gender   \n",
       "6               Age   \n",
       "7            Tenure   \n",
       "8           Balance   \n",
       "9     NumOfProducts   \n",
       "10        HasCrCard   \n",
       "11   IsActiveMember   \n",
       "12  EstimatedSalary   \n",
       "13           Exited   \n",
       "\n",
       "                                                                                                Descrição  \n",
       "0                                        Número do registro (linha) no dataset, usado apenas como índice.  \n",
       "1                         Identificador único do cliente no banco, crucial para identificação individual.  \n",
       "2                                                Sobrenome do cliente, não tem impacto direto na análise.  \n",
       "3                  Pontuação de crédito do cliente, indicando sua solvência e potencial risco financeiro.  \n",
       "4                               País de residência do cliente, importante para análise regional de churn.  \n",
       "5                                                       Gênero do cliente, útil para análise demográfica.  \n",
       "6                              Idade do cliente, um fator significativo na decisão de produtos bancários.  \n",
       "7                     Número de anos que o cliente está com o banco, indicativo de lealdade e satisfação.  \n",
       "8                          Saldo atual na conta bancária do cliente, pode indicar satisfação com o banco.  \n",
       "9           Número de produtos bancários que o cliente utiliza, reflete a profundidade do relacionamento.  \n",
       "10  Indica se o cliente possui um cartão de crédito (1 = Sim, 0 = Não), relevante para serviços cruzados.  \n",
       "11                 Indica se o cliente é um membro ativo (1 = Sim, 0 = Não), importante para engajamento.  \n",
       "12                         Salário estimado anual do cliente, correlaciona com potencial de investimento.  \n",
       "13            Indica se o cliente deixou o banco (1 = Sim, 0 = Não), variável-alvo para análise de churn.  "
      ]
     },
     "execution_count": 40,
     "metadata": {},
     "output_type": "execute_result"
    }
   ],
   "source": [
    "# Dicionário com as descrições detalhadas das colunas do DataFrame. Esta informação é crucial para entender o significado de cada campo e sua importância para a análise de churn.\n",
    "descricao_colunas = {\n",
    "    \"RowNumber\": \"Número do registro (linha) no dataset, usado apenas como índice.\",\n",
    "    \"CustomerId\": \"Identificador único do cliente no banco, crucial para identificação individual.\",\n",
    "    \"Surname\": \"Sobrenome do cliente, não tem impacto direto na análise.\",\n",
    "    \"CreditScore\": \"Pontuação de crédito do cliente, indicando sua solvência e potencial risco financeiro.\",\n",
    "    \"Geography\": \"País de residência do cliente, importante para análise regional de churn.\",\n",
    "    \"Gender\": \"Gênero do cliente, útil para análise demográfica.\",\n",
    "    \"Age\": \"Idade do cliente, um fator significativo na decisão de produtos bancários.\",\n",
    "    \"Tenure\": \"Número de anos que o cliente está com o banco, indicativo de lealdade e satisfação.\",\n",
    "    \"Balance\": \"Saldo atual na conta bancária do cliente, pode indicar satisfação com o banco.\",\n",
    "    \"NumOfProducts\": \"Número de produtos bancários que o cliente utiliza, reflete a profundidade do relacionamento.\",\n",
    "    \"HasCrCard\": \"Indica se o cliente possui um cartão de crédito (1 = Sim, 0 = Não), relevante para serviços cruzados.\",\n",
    "    \"IsActiveMember\": \"Indica se o cliente é um membro ativo (1 = Sim, 0 = Não), importante para engajamento.\",\n",
    "    \"EstimatedSalary\": \"Salário estimado anual do cliente, correlaciona com potencial de investimento.\",\n",
    "    \"Exited\": \"Indica se o cliente deixou o banco (1 = Sim, 0 = Não), variável-alvo para análise de churn.\"\n",
    "}\n",
    "\n",
    "# Convertendo o dicionário em um DataFrame para facilitar a visualização e entendimento das colunas\n",
    "df_descricao_colunas = pd.DataFrame(list(descricao_colunas.items()), columns = ['Coluna', 'Descrição'])\n",
    "\n",
    "# Ajustando a largura máxima das colunas para exibir todo o conteúdo\n",
    "pd.set_option('display.max_colwidth', None)\n",
    "\n",
    "# Exibindo o DataFrame para visualização das descrições das colunas\n",
    "df_descricao_colunas\n"
   ]
  },
  {
   "cell_type": "code",
   "execution_count": 41,
   "id": "af74882b",
   "metadata": {
    "ExecuteTime": {
     "end_time": "2024-09-03T19:08:51.785797Z",
     "start_time": "2024-09-03T19:08:51.773587Z"
    }
   },
   "outputs": [
    {
     "name": "stdout",
     "output_type": "stream",
     "text": [
      "Quantidade de valores nulos por coluna no dataset:\n",
      "RowNumber          0\n",
      "CustomerId         0\n",
      "Surname            0\n",
      "CreditScore        0\n",
      "Geography          0\n",
      "Gender             0\n",
      "Age                0\n",
      "Tenure             0\n",
      "Balance            0\n",
      "NumOfProducts      0\n",
      "HasCrCard          0\n",
      "IsActiveMember     0\n",
      "EstimatedSalary    0\n",
      "Exited             0\n",
      "dtype: int64\n"
     ]
    }
   ],
   "source": [
    "# Exibindo a soma de valores nulos para cada coluna no DataFrame\n",
    "null_values = df.isnull().sum()\n",
    "\n",
    "# Verificando se há valores nulos e exibindo os resultados\n",
    "print(\"Quantidade de valores nulos por coluna no dataset:\")\n",
    "print(null_values)"
   ]
  },
  {
   "cell_type": "code",
   "execution_count": 42,
   "id": "1ae2afe3",
   "metadata": {
    "ExecuteTime": {
     "end_time": "2024-09-03T19:08:51.797153Z",
     "start_time": "2024-09-03T19:08:51.786800Z"
    }
   },
   "outputs": [
    {
     "data": {
      "text/html": [
       "<div>\n",
       "<style scoped>\n",
       "    .dataframe tbody tr th:only-of-type {\n",
       "        vertical-align: middle;\n",
       "    }\n",
       "\n",
       "    .dataframe tbody tr th {\n",
       "        vertical-align: top;\n",
       "    }\n",
       "\n",
       "    .dataframe thead th {\n",
       "        text-align: right;\n",
       "    }\n",
       "</style>\n",
       "<table border=\"1\" class=\"dataframe\">\n",
       "  <thead>\n",
       "    <tr style=\"text-align: right;\">\n",
       "      <th></th>\n",
       "      <th>numero_linha</th>\n",
       "      <th>id_cliente</th>\n",
       "      <th>sobrenome</th>\n",
       "      <th>pontuacao_credito</th>\n",
       "      <th>pais</th>\n",
       "      <th>genero</th>\n",
       "      <th>idade</th>\n",
       "      <th>tempo_relacionamento</th>\n",
       "      <th>saldo</th>\n",
       "      <th>numero_produtos</th>\n",
       "      <th>possui_cartao_credito</th>\n",
       "      <th>membro_ativo</th>\n",
       "      <th>salario_estimado</th>\n",
       "      <th>saiu_banco</th>\n",
       "    </tr>\n",
       "  </thead>\n",
       "  <tbody>\n",
       "    <tr>\n",
       "      <th>0</th>\n",
       "      <td>1</td>\n",
       "      <td>15634602</td>\n",
       "      <td>Hargrave</td>\n",
       "      <td>619</td>\n",
       "      <td>France</td>\n",
       "      <td>Female</td>\n",
       "      <td>42</td>\n",
       "      <td>2</td>\n",
       "      <td>0.00</td>\n",
       "      <td>1</td>\n",
       "      <td>1</td>\n",
       "      <td>1</td>\n",
       "      <td>101348.88</td>\n",
       "      <td>1</td>\n",
       "    </tr>\n",
       "    <tr>\n",
       "      <th>1</th>\n",
       "      <td>2</td>\n",
       "      <td>15647311</td>\n",
       "      <td>Hill</td>\n",
       "      <td>608</td>\n",
       "      <td>Spain</td>\n",
       "      <td>Female</td>\n",
       "      <td>41</td>\n",
       "      <td>1</td>\n",
       "      <td>83807.86</td>\n",
       "      <td>1</td>\n",
       "      <td>0</td>\n",
       "      <td>1</td>\n",
       "      <td>112542.58</td>\n",
       "      <td>0</td>\n",
       "    </tr>\n",
       "    <tr>\n",
       "      <th>2</th>\n",
       "      <td>3</td>\n",
       "      <td>15619304</td>\n",
       "      <td>Onio</td>\n",
       "      <td>502</td>\n",
       "      <td>France</td>\n",
       "      <td>Female</td>\n",
       "      <td>42</td>\n",
       "      <td>8</td>\n",
       "      <td>159660.80</td>\n",
       "      <td>3</td>\n",
       "      <td>1</td>\n",
       "      <td>0</td>\n",
       "      <td>113931.57</td>\n",
       "      <td>1</td>\n",
       "    </tr>\n",
       "    <tr>\n",
       "      <th>3</th>\n",
       "      <td>4</td>\n",
       "      <td>15701354</td>\n",
       "      <td>Boni</td>\n",
       "      <td>699</td>\n",
       "      <td>France</td>\n",
       "      <td>Female</td>\n",
       "      <td>39</td>\n",
       "      <td>1</td>\n",
       "      <td>0.00</td>\n",
       "      <td>2</td>\n",
       "      <td>0</td>\n",
       "      <td>0</td>\n",
       "      <td>93826.63</td>\n",
       "      <td>0</td>\n",
       "    </tr>\n",
       "    <tr>\n",
       "      <th>4</th>\n",
       "      <td>5</td>\n",
       "      <td>15737888</td>\n",
       "      <td>Mitchell</td>\n",
       "      <td>850</td>\n",
       "      <td>Spain</td>\n",
       "      <td>Female</td>\n",
       "      <td>43</td>\n",
       "      <td>2</td>\n",
       "      <td>125510.82</td>\n",
       "      <td>1</td>\n",
       "      <td>1</td>\n",
       "      <td>1</td>\n",
       "      <td>79084.10</td>\n",
       "      <td>0</td>\n",
       "    </tr>\n",
       "  </tbody>\n",
       "</table>\n",
       "</div>"
      ],
      "text/plain": [
       "   numero_linha  id_cliente sobrenome  pontuacao_credito    pais  genero  \\\n",
       "0             1    15634602  Hargrave                619  France  Female   \n",
       "1             2    15647311      Hill                608   Spain  Female   \n",
       "2             3    15619304      Onio                502  France  Female   \n",
       "3             4    15701354      Boni                699  France  Female   \n",
       "4             5    15737888  Mitchell                850   Spain  Female   \n",
       "\n",
       "   idade  tempo_relacionamento      saldo  numero_produtos  \\\n",
       "0     42                     2       0.00                1   \n",
       "1     41                     1   83807.86                1   \n",
       "2     42                     8  159660.80                3   \n",
       "3     39                     1       0.00                2   \n",
       "4     43                     2  125510.82                1   \n",
       "\n",
       "   possui_cartao_credito  membro_ativo  salario_estimado  saiu_banco  \n",
       "0                      1             1         101348.88           1  \n",
       "1                      0             1         112542.58           0  \n",
       "2                      1             0         113931.57           1  \n",
       "3                      0             0          93826.63           0  \n",
       "4                      1             1          79084.10           0  "
      ]
     },
     "execution_count": 42,
     "metadata": {},
     "output_type": "execute_result"
    }
   ],
   "source": [
    "# Renomeando as colunas do DataFrame para nomes em português com estilo snake_case\n",
    "colunas_traduzidas = {\n",
    "    'RowNumber': 'numero_linha',\n",
    "    'CustomerId': 'id_cliente',\n",
    "    'Surname': 'sobrenome',\n",
    "    'CreditScore': 'pontuacao_credito',\n",
    "    'Geography': 'pais',\n",
    "    'Gender': 'genero',\n",
    "    'Age': 'idade',\n",
    "    'Tenure': 'tempo_relacionamento',\n",
    "    'Balance': 'saldo',\n",
    "    'NumOfProducts': 'numero_produtos',\n",
    "    'HasCrCard': 'possui_cartao_credito',\n",
    "    'IsActiveMember': 'membro_ativo',\n",
    "    'EstimatedSalary': 'salario_estimado',\n",
    "    'Exited': 'saiu_banco'\n",
    "}\n",
    "\n",
    "# Aplicando as novas nomenclaturas das colunas ao DataFrame\n",
    "df.rename(columns = colunas_traduzidas, inplace = True)\n",
    "\n",
    "# Exibindo as primeiras linhas do DataFrame para verificar as novas nomenclaturas de colunas\n",
    "df.head()"
   ]
  },
  {
   "cell_type": "code",
   "execution_count": 43,
   "id": "838a1151",
   "metadata": {
    "ExecuteTime": {
     "end_time": "2024-09-03T19:08:51.810810Z",
     "start_time": "2024-09-03T19:08:51.799156Z"
    }
   },
   "outputs": [
    {
     "name": "stdout",
     "output_type": "stream",
     "text": [
      "Valores únicos na coluna 'pais': France, Spain, Germany\n",
      "Valores únicos na coluna 'genero': Female, Male\n",
      "\n",
      "Após a tradução:\n"
     ]
    },
    {
     "data": {
      "text/html": [
       "<div>\n",
       "<style scoped>\n",
       "    .dataframe tbody tr th:only-of-type {\n",
       "        vertical-align: middle;\n",
       "    }\n",
       "\n",
       "    .dataframe tbody tr th {\n",
       "        vertical-align: top;\n",
       "    }\n",
       "\n",
       "    .dataframe thead th {\n",
       "        text-align: right;\n",
       "    }\n",
       "</style>\n",
       "<table border=\"1\" class=\"dataframe\">\n",
       "  <thead>\n",
       "    <tr style=\"text-align: right;\">\n",
       "      <th></th>\n",
       "      <th>pais</th>\n",
       "      <th>genero</th>\n",
       "    </tr>\n",
       "  </thead>\n",
       "  <tbody>\n",
       "    <tr>\n",
       "      <th>0</th>\n",
       "      <td>França</td>\n",
       "      <td>Feminino</td>\n",
       "    </tr>\n",
       "    <tr>\n",
       "      <th>1</th>\n",
       "      <td>Espanha</td>\n",
       "      <td>Feminino</td>\n",
       "    </tr>\n",
       "    <tr>\n",
       "      <th>2</th>\n",
       "      <td>França</td>\n",
       "      <td>Feminino</td>\n",
       "    </tr>\n",
       "    <tr>\n",
       "      <th>3</th>\n",
       "      <td>França</td>\n",
       "      <td>Feminino</td>\n",
       "    </tr>\n",
       "    <tr>\n",
       "      <th>4</th>\n",
       "      <td>Espanha</td>\n",
       "      <td>Feminino</td>\n",
       "    </tr>\n",
       "  </tbody>\n",
       "</table>\n",
       "</div>"
      ],
      "text/plain": [
       "      pais    genero\n",
       "0   França  Feminino\n",
       "1  Espanha  Feminino\n",
       "2   França  Feminino\n",
       "3   França  Feminino\n",
       "4  Espanha  Feminino"
      ]
     },
     "execution_count": 43,
     "metadata": {},
     "output_type": "execute_result"
    }
   ],
   "source": [
    "# Mostrando os valores únicos presentes nas colunas 'pais' e 'genero'\n",
    "print(\"Valores únicos na coluna 'pais':\", str(list(df['pais'].unique()))[1:-1].replace(\"'\", \"\")) #df['pais'].unique())\n",
    "print(\"Valores únicos na coluna 'genero':\", str(list(df['genero'].unique()))[1:-1].replace(\"'\", \"\"))\n",
    "\n",
    "# Dicionários de tradução para as colunas 'pais' e 'genero'\n",
    "traducao_paises = {\n",
    "    'France': 'França',\n",
    "    'Spain': 'Espanha',\n",
    "    'Germany': 'Alemanha'\n",
    "}\n",
    "\n",
    "traducao_genero = {\n",
    "    'Female': 'Feminino',\n",
    "    'Male': 'Masculino'\n",
    "}\n",
    "\n",
    "# Aplicando as traduções\n",
    "df['pais'] = df['pais'].map(traducao_paises)\n",
    "df['genero'] = df['genero'].map(traducao_genero)\n",
    "\n",
    "# Exibindo as primeiras linhas do DataFrame para verificar as traduções\n",
    "print(\"\\nApós a tradução:\")\n",
    "df[['pais', 'genero']].head()"
   ]
  },
  {
   "cell_type": "code",
   "execution_count": 44,
   "id": "45022b13",
   "metadata": {
    "ExecuteTime": {
     "end_time": "2024-09-03T19:08:51.823485Z",
     "start_time": "2024-09-03T19:08:51.811811Z"
    }
   },
   "outputs": [
    {
     "name": "stdout",
     "output_type": "stream",
     "text": [
      "DataFrame após a remoção das colunas 'numero_linha' e 'sobrenome':\n"
     ]
    },
    {
     "data": {
      "text/html": [
       "<div>\n",
       "<style scoped>\n",
       "    .dataframe tbody tr th:only-of-type {\n",
       "        vertical-align: middle;\n",
       "    }\n",
       "\n",
       "    .dataframe tbody tr th {\n",
       "        vertical-align: top;\n",
       "    }\n",
       "\n",
       "    .dataframe thead th {\n",
       "        text-align: right;\n",
       "    }\n",
       "</style>\n",
       "<table border=\"1\" class=\"dataframe\">\n",
       "  <thead>\n",
       "    <tr style=\"text-align: right;\">\n",
       "      <th></th>\n",
       "      <th>id_cliente</th>\n",
       "      <th>pontuacao_credito</th>\n",
       "      <th>pais</th>\n",
       "      <th>genero</th>\n",
       "      <th>idade</th>\n",
       "      <th>tempo_relacionamento</th>\n",
       "      <th>saldo</th>\n",
       "      <th>numero_produtos</th>\n",
       "      <th>possui_cartao_credito</th>\n",
       "      <th>membro_ativo</th>\n",
       "      <th>salario_estimado</th>\n",
       "      <th>saiu_banco</th>\n",
       "    </tr>\n",
       "  </thead>\n",
       "  <tbody>\n",
       "    <tr>\n",
       "      <th>0</th>\n",
       "      <td>15634602</td>\n",
       "      <td>619</td>\n",
       "      <td>França</td>\n",
       "      <td>Feminino</td>\n",
       "      <td>42</td>\n",
       "      <td>2</td>\n",
       "      <td>0.00</td>\n",
       "      <td>1</td>\n",
       "      <td>1</td>\n",
       "      <td>1</td>\n",
       "      <td>101348.88</td>\n",
       "      <td>1</td>\n",
       "    </tr>\n",
       "    <tr>\n",
       "      <th>1</th>\n",
       "      <td>15647311</td>\n",
       "      <td>608</td>\n",
       "      <td>Espanha</td>\n",
       "      <td>Feminino</td>\n",
       "      <td>41</td>\n",
       "      <td>1</td>\n",
       "      <td>83807.86</td>\n",
       "      <td>1</td>\n",
       "      <td>0</td>\n",
       "      <td>1</td>\n",
       "      <td>112542.58</td>\n",
       "      <td>0</td>\n",
       "    </tr>\n",
       "    <tr>\n",
       "      <th>2</th>\n",
       "      <td>15619304</td>\n",
       "      <td>502</td>\n",
       "      <td>França</td>\n",
       "      <td>Feminino</td>\n",
       "      <td>42</td>\n",
       "      <td>8</td>\n",
       "      <td>159660.80</td>\n",
       "      <td>3</td>\n",
       "      <td>1</td>\n",
       "      <td>0</td>\n",
       "      <td>113931.57</td>\n",
       "      <td>1</td>\n",
       "    </tr>\n",
       "    <tr>\n",
       "      <th>3</th>\n",
       "      <td>15701354</td>\n",
       "      <td>699</td>\n",
       "      <td>França</td>\n",
       "      <td>Feminino</td>\n",
       "      <td>39</td>\n",
       "      <td>1</td>\n",
       "      <td>0.00</td>\n",
       "      <td>2</td>\n",
       "      <td>0</td>\n",
       "      <td>0</td>\n",
       "      <td>93826.63</td>\n",
       "      <td>0</td>\n",
       "    </tr>\n",
       "    <tr>\n",
       "      <th>4</th>\n",
       "      <td>15737888</td>\n",
       "      <td>850</td>\n",
       "      <td>Espanha</td>\n",
       "      <td>Feminino</td>\n",
       "      <td>43</td>\n",
       "      <td>2</td>\n",
       "      <td>125510.82</td>\n",
       "      <td>1</td>\n",
       "      <td>1</td>\n",
       "      <td>1</td>\n",
       "      <td>79084.10</td>\n",
       "      <td>0</td>\n",
       "    </tr>\n",
       "  </tbody>\n",
       "</table>\n",
       "</div>"
      ],
      "text/plain": [
       "   id_cliente  pontuacao_credito     pais    genero  idade  \\\n",
       "0    15634602                619   França  Feminino     42   \n",
       "1    15647311                608  Espanha  Feminino     41   \n",
       "2    15619304                502   França  Feminino     42   \n",
       "3    15701354                699   França  Feminino     39   \n",
       "4    15737888                850  Espanha  Feminino     43   \n",
       "\n",
       "   tempo_relacionamento      saldo  numero_produtos  possui_cartao_credito  \\\n",
       "0                     2       0.00                1                      1   \n",
       "1                     1   83807.86                1                      0   \n",
       "2                     8  159660.80                3                      1   \n",
       "3                     1       0.00                2                      0   \n",
       "4                     2  125510.82                1                      1   \n",
       "\n",
       "   membro_ativo  salario_estimado  saiu_banco  \n",
       "0             1         101348.88           1  \n",
       "1             1         112542.58           0  \n",
       "2             0         113931.57           1  \n",
       "3             0          93826.63           0  \n",
       "4             1          79084.10           0  "
      ]
     },
     "execution_count": 44,
     "metadata": {},
     "output_type": "execute_result"
    }
   ],
   "source": [
    "# Removendo colunas desnecessárias para a análise de churn\n",
    "# As colunas 'numero_linha' e 'sobrenome' são removidas porque não contribuem para a análise ou insights sobre o churn dos clientes.\n",
    "\n",
    "# Removendo as colunas do DataFrame\n",
    "df.drop(['numero_linha', 'sobrenome'], axis = 1, inplace = True)\n",
    "\n",
    "# Exibindo as primeiras linhas do DataFrame após a remoção das colunas para confirmar a alteração\n",
    "print(\"DataFrame após a remoção das colunas 'numero_linha' e 'sobrenome':\")\n",
    "df.head()"
   ]
  },
  {
   "cell_type": "code",
   "execution_count": 45,
   "id": "19e0a824",
   "metadata": {
    "ExecuteTime": {
     "end_time": "2024-09-03T19:11:25.924413Z",
     "start_time": "2024-09-03T19:11:25.917467Z"
    },
    "scrolled": true
   },
   "outputs": [
    {
     "name": "stdout",
     "output_type": "stream",
     "text": [
      "Descrição atualizada das colunas do DataFrame:\n"
     ]
    },
    {
     "data": {
      "text/html": [
       "<div>\n",
       "<style scoped>\n",
       "    .dataframe tbody tr th:only-of-type {\n",
       "        vertical-align: middle;\n",
       "    }\n",
       "\n",
       "    .dataframe tbody tr th {\n",
       "        vertical-align: top;\n",
       "    }\n",
       "\n",
       "    .dataframe thead th {\n",
       "        text-align: right;\n",
       "    }\n",
       "</style>\n",
       "<table border=\"1\" class=\"dataframe\">\n",
       "  <thead>\n",
       "    <tr style=\"text-align: right;\">\n",
       "      <th></th>\n",
       "      <th>Coluna</th>\n",
       "      <th>Descrição</th>\n",
       "    </tr>\n",
       "  </thead>\n",
       "  <tbody>\n",
       "    <tr>\n",
       "      <th>0</th>\n",
       "      <td>id_cliente</td>\n",
       "      <td>Identificador único do cliente no banco, crucial para identificação individual.</td>\n",
       "    </tr>\n",
       "    <tr>\n",
       "      <th>1</th>\n",
       "      <td>pontuacao_credito</td>\n",
       "      <td>Pontuação de crédito do cliente, indicando sua solvência e potencial risco financeiro.</td>\n",
       "    </tr>\n",
       "    <tr>\n",
       "      <th>2</th>\n",
       "      <td>pais</td>\n",
       "      <td>País de residência do cliente, importante para análise regional de churn.</td>\n",
       "    </tr>\n",
       "    <tr>\n",
       "      <th>3</th>\n",
       "      <td>genero</td>\n",
       "      <td>Gênero do cliente, útil para análise demográfica.</td>\n",
       "    </tr>\n",
       "    <tr>\n",
       "      <th>4</th>\n",
       "      <td>idade</td>\n",
       "      <td>Idade do cliente, um fator significativo na decisão de produtos bancários.</td>\n",
       "    </tr>\n",
       "    <tr>\n",
       "      <th>5</th>\n",
       "      <td>tempo_relacionamento</td>\n",
       "      <td>Número de anos que o cliente está com o banco, indicativo de lealdade e satisfação.</td>\n",
       "    </tr>\n",
       "    <tr>\n",
       "      <th>6</th>\n",
       "      <td>saldo</td>\n",
       "      <td>Saldo atual na conta bancária do cliente, pode indicar satisfação com o banco.</td>\n",
       "    </tr>\n",
       "    <tr>\n",
       "      <th>7</th>\n",
       "      <td>numero_produtos</td>\n",
       "      <td>Número de produtos bancários que o cliente utiliza, reflete a profundidade do relacionamento.</td>\n",
       "    </tr>\n",
       "    <tr>\n",
       "      <th>8</th>\n",
       "      <td>possui_cartao_credito</td>\n",
       "      <td>Indica se o cliente possui um cartão de crédito (1 = Sim, 0 = Não), relevante para serviços cruzados.</td>\n",
       "    </tr>\n",
       "    <tr>\n",
       "      <th>9</th>\n",
       "      <td>membro_ativo</td>\n",
       "      <td>Indica se o cliente é um membro ativo (1 = Sim, 0 = Não), importante para engajamento.</td>\n",
       "    </tr>\n",
       "    <tr>\n",
       "      <th>10</th>\n",
       "      <td>salario_estimado</td>\n",
       "      <td>Salário estimado anual do cliente, correlaciona com potencial de investimento.</td>\n",
       "    </tr>\n",
       "    <tr>\n",
       "      <th>11</th>\n",
       "      <td>saiu_banco</td>\n",
       "      <td>Indica se o cliente deixou o banco (1 = Sim, 0 = Não), variável-alvo para análise de churn.</td>\n",
       "    </tr>\n",
       "  </tbody>\n",
       "</table>\n",
       "</div>"
      ],
      "text/plain": [
       "                   Coluna  \\\n",
       "0              id_cliente   \n",
       "1       pontuacao_credito   \n",
       "2                    pais   \n",
       "3                  genero   \n",
       "4                   idade   \n",
       "5    tempo_relacionamento   \n",
       "6                   saldo   \n",
       "7         numero_produtos   \n",
       "8   possui_cartao_credito   \n",
       "9            membro_ativo   \n",
       "10       salario_estimado   \n",
       "11             saiu_banco   \n",
       "\n",
       "                                                                                                Descrição  \n",
       "0                         Identificador único do cliente no banco, crucial para identificação individual.  \n",
       "1                  Pontuação de crédito do cliente, indicando sua solvência e potencial risco financeiro.  \n",
       "2                               País de residência do cliente, importante para análise regional de churn.  \n",
       "3                                                       Gênero do cliente, útil para análise demográfica.  \n",
       "4                              Idade do cliente, um fator significativo na decisão de produtos bancários.  \n",
       "5                     Número de anos que o cliente está com o banco, indicativo de lealdade e satisfação.  \n",
       "6                          Saldo atual na conta bancária do cliente, pode indicar satisfação com o banco.  \n",
       "7           Número de produtos bancários que o cliente utiliza, reflete a profundidade do relacionamento.  \n",
       "8   Indica se o cliente possui um cartão de crédito (1 = Sim, 0 = Não), relevante para serviços cruzados.  \n",
       "9                  Indica se o cliente é um membro ativo (1 = Sim, 0 = Não), importante para engajamento.  \n",
       "10                         Salário estimado anual do cliente, correlaciona com potencial de investimento.  \n",
       "11            Indica se o cliente deixou o banco (1 = Sim, 0 = Não), variável-alvo para análise de churn.  "
      ]
     },
     "execution_count": 45,
     "metadata": {},
     "output_type": "execute_result"
    }
   ],
   "source": [
    "# Atualização do dicionário com as descrições das colunas do DataFrame após as modificações\n",
    "descricao_colunas_atualizada = {\n",
    "    'id_cliente': 'Identificador único do cliente no banco, crucial para identificação individual.',\n",
    "    'pontuacao_credito': 'Pontuação de crédito do cliente, indicando sua solvência e potencial risco financeiro.',\n",
    "    'pais': 'País de residência do cliente, importante para análise regional de churn.',\n",
    "    'genero': 'Gênero do cliente, útil para análise demográfica.',\n",
    "    'idade': 'Idade do cliente, um fator significativo na decisão de produtos bancários.',\n",
    "    'tempo_relacionamento': 'Número de anos que o cliente está com o banco, indicativo de lealdade e satisfação.',\n",
    "    'saldo': 'Saldo atual na conta bancária do cliente, pode indicar satisfação com o banco.',\n",
    "    'numero_produtos': 'Número de produtos bancários que o cliente utiliza, reflete a profundidade do relacionamento.',\n",
    "    'possui_cartao_credito': 'Indica se o cliente possui um cartão de crédito (1 = Sim, 0 = Não), relevante para serviços cruzados.',\n",
    "    'membro_ativo': 'Indica se o cliente é um membro ativo (1 = Sim, 0 = Não), importante para engajamento.',\n",
    "    'salario_estimado': 'Salário estimado anual do cliente, correlaciona com potencial de investimento.',\n",
    "    'saiu_banco': 'Indica se o cliente deixou o banco (1 = Sim, 0 = Não), variável-alvo para análise de churn.'\n",
    "}\n",
    "\n",
    "# Convertendo o dicionário atualizado em um DataFrame para facilitar a visualização e entendimento das colunas\n",
    "df_descricao_colunas_atualizada = pd.DataFrame(list(descricao_colunas_atualizada.items()), columns = ['Coluna', 'Descrição'])\n",
    "\n",
    "# Exibindo o DataFrame atualizado para visualização das descrições das colunas\n",
    "print(\"Descrição atualizada das colunas do DataFrame:\")\n",
    "df_descricao_colunas_atualizada"
   ]
  },
  {
   "cell_type": "markdown",
   "id": "286d4aa0",
   "metadata": {},
   "source": [
    "<div style=\"font-family: Montserrat; color:#14274C; background-color:#D2E0E9; border-radius:12px 12px;\">  <a id=\"6\"></a> \n",
    "\n",
    "## <p style=\"background-color:#14274C; font-family:Montserrat; color:#8BD5EA; font-size:80%; text-align:left; border-radius:10px 10px; margin-bottom: -25px; padding-left: 75px;\"><strong>6. ANÁLISE EXPLORATÓRIA DE DADOS (EDA) 💡</strong></p>\n",
    "\n",
    "- **Nesta seção, conduziremos uma análise exploratória detalhada dos dados do Blue Bank, utilizando visualizações gráficas e estatísticas descritivas para identificar padrões e correlações que possam influenciar a decisão de um cliente em permanecer ou deixar o banco. Analisaremos variáveis como idade, saldo, número de produtos, entre outros, para compreender melhor os fatores que contribuem para o churn dos clientes. Esta etapa é fundamental para desdobrar insights que ajudarão na formulação de estratégias eficazes de retenção de clientes.**\n",
    "    - **Focaremos em responder às seguintes perguntas de negócio, que foram identificadas como cruciais para entender o churn dos clientes do Blue Bank:**\n",
    "        - **Como características como idade, saldo bancário, número de produtos e atividade do membro impactam a probabilidade de churn dos clientes?**\n",
    "        - **Existe uma correlação entre a geografia dos clientes e suas taxas de churn?**\n",
    "        - **Os clientes com cartão de crédito são mais propensos a permanecer no banco comparado aos que não possuem?**\n",
    "        - **Qual o impacto do salário estimado na decisão do cliente de permanecer ou deixar o banco?**\n",
    "        - **O tempo de relacionamento com o banco (tenure) impacta a lealdade dos clientes?**\n",
    "        - **Como a idade dos clientes afeta a probabilidade de sair do banco?**\n",
    "        - **Comparar a taxa de churn entre clientes ativos e inativos.**\n",
    "        - **O país de origem dos clientes influencia na decisão de sair?**\n",
    "        - **Analisar se clientes com mais produtos tendem a ser mais leais ao banco.**\n",
    "        - **Existe uma relação entre a pontuação de crédito e a taxa de churn?**\n",
    "        - **Avaliar se clientes com maior pontuação de crédito são mais propensos a permanecer no banco.**\n",
    "        - **Investigar a correlação entre o salário estimado e a retenção.**\n",
    "        - **O banco está perdendo mais clientes em algum grupo específico (idade, país, gênero)?**\n",
    "        - **Traçar o perfil dos clientes do banco no geral.**\n",
    "\n",
    "- **Cada uma dessas perguntas será explorada individualmente, utilizando técnicas de análise de dados e visualização para extrair insights relevantes e acionáveis.**\n"
   ]
  },
  {
   "cell_type": "code",
   "execution_count": 59,
   "id": "2bf67620",
   "metadata": {},
   "outputs": [
    {
     "name": "stdout",
     "output_type": "stream",
     "text": [
      "pais\n",
      "França      0.5014\n",
      "Alemanha    0.2509\n",
      "Espanha     0.2477\n",
      "Name: proportion, dtype: float64\n",
      "------------------------------\n",
      "genero\n",
      "Masculino    0.5457\n",
      "Feminino     0.4543\n",
      "Name: proportion, dtype: float64\n",
      "------------------------------\n",
      "numero_produtos\n",
      "1    0.5084\n",
      "2    0.4590\n",
      "3    0.0266\n",
      "4    0.0060\n",
      "Name: proportion, dtype: float64\n",
      "------------------------------\n",
      "possui_cartao_credito\n",
      "1    0.7055\n",
      "0    0.2945\n",
      "Name: proportion, dtype: float64\n",
      "------------------------------\n",
      "membro_ativo\n",
      "1    0.5151\n",
      "0    0.4849\n",
      "Name: proportion, dtype: float64\n",
      "------------------------------\n",
      "saiu_banco\n",
      "0    0.7963\n",
      "1    0.2037\n",
      "Name: proportion, dtype: float64\n",
      "------------------------------\n"
     ]
    }
   ],
   "source": [
    "for column in [\"pais\", \"genero\", \"numero_produtos\", \"possui_cartao_credito\", \"membro_ativo\", \"saiu_banco\"]:\n",
    "    print(df[column].value_counts(normalize = True))\n",
    "    print(\"-\"*30)"
   ]
  },
  {
   "cell_type": "code",
   "execution_count": 128,
   "id": "56c2cb8b",
   "metadata": {},
   "outputs": [
    {
     "data": {
      "image/png": "[encoded data removed]",
      "text/plain": [
       "<Figure size 2000x400 with 6 Axes>"
      ]
     },
     "metadata": {},
     "output_type": "display_data"
    }
   ],
   "source": [
    "# for column in ['pais', 'genero', 'numero_produtos', 'possui_cartao_credito', 'membro_ativo', 'saiu_banco']:\n",
    "plt.figure(figsize = (20, 4))\n",
    "plt.suptitle('Proporção dos valores presentes nas colunas: \"pais\", \"genero\", \"numero_produtos\", \"possui_cartao_credito\", \"membro_ativo\", \"saiu_banco\"', fontweight = \"bold\")\n",
    "\n",
    "for i, column in zip(range(1, 7), [\"pais\", \"genero\", \"numero_produtos\", \"possui_cartao_credito\", \"membro_ativo\", \"saiu_banco\"]):\n",
    "    plt.subplot(1, 6, i)\n",
    "    ax = df[column].value_counts(normalize = True).plot(kind = \"bar\", title = column)\n",
    "    ax.grid(False)\n",
    "    ax.set_xticklabels(ax.get_xticklabels(), rotation = 0)\n",
    "    ax.set_xlabel(\"\")\n",
    "    ax.yaxis.set_major_formatter(\"\")\n",
    "    ax.set_ylim(0, 1)\n",
    "\n",
    "    for p in ax.patches:\n",
    "        ax.annotate(\n",
    "            f\"{p.get_height() * 100:.2f}%\",  # Texto a ser anotado (altura da barra em porcentagem)\n",
    "            (p.get_x() + p.get_width() / 2., p.get_height()),  # Posição (x, y) da anotação\n",
    "            ha = \"center\",  # Alinhamento horizontal do texto ao centro\n",
    "            va = \"center\",  # Alinhamento vertical do texto ao centro\n",
    "            xytext = (0, 5),  # Deslocamento do texto em relação ao ponto (x, y)\n",
    "            textcoords = \"offset points\"  # Sistema de coordenadas para interpretar xytext\n",
    "        )\n",
    "\n",
    "plt.tight_layout()\n",
    "plt.show()"
   ]
  },
  {
   "cell_type": "code",
   "execution_count": 120,
   "id": "fe145bf9",
   "metadata": {},
   "outputs": [
    {
     "data": {
      "text/plain": [
       "count    10000.000000\n",
       "mean       650.528800\n",
       "std         96.653299\n",
       "min        350.000000\n",
       "25%        584.000000\n",
       "50%        652.000000\n",
       "75%        718.000000\n",
       "max        850.000000\n",
       "Name: pontuacao_credito, dtype: float64"
      ]
     },
     "execution_count": 120,
     "metadata": {},
     "output_type": "execute_result"
    }
   ],
   "source": [
    "df[\"pontuacao_credito\"].describe()"
   ]
  },
  {
   "cell_type": "code",
   "execution_count": 132,
   "id": "d4eee937",
   "metadata": {},
   "outputs": [
    {
     "data": {
      "image/png": "[encoded data removed]",
      "text/plain": [
       "<Figure size 640x480 with 1 Axes>"
      ]
     },
     "metadata": {},
     "output_type": "display_data"
    }
   ],
   "source": [
    "plt.hist(df[\"pontuacao_credito\"], bins = 30, color = \"skyblue\", edgecolor = \"black\");\n",
    "plt.grid(False)"
   ]
  },
  {
   "cell_type": "code",
   "execution_count": 119,
   "id": "4d223b70",
   "metadata": {},
   "outputs": [
    {
     "data": {
      "text/plain": [
       "count    10000.000000\n",
       "mean        38.921800\n",
       "std         10.487806\n",
       "min         18.000000\n",
       "25%         32.000000\n",
       "50%         37.000000\n",
       "75%         44.000000\n",
       "max         92.000000\n",
       "Name: idade, dtype: float64"
      ]
     },
     "execution_count": 119,
     "metadata": {},
     "output_type": "execute_result"
    }
   ],
   "source": [
    "df[\"idade\"].describe()"
   ]
  },
  {
   "cell_type": "code",
   "execution_count": 133,
   "id": "97400442",
   "metadata": {},
   "outputs": [
    {
     "data": {
      "image/png": "[encoded data removed]",
      "text/plain": [
       "<Figure size 640x480 with 1 Axes>"
      ]
     },
     "metadata": {},
     "output_type": "display_data"
    }
   ],
   "source": [
    "plt.hist(df[\"idade\"], bins = 30, color = \"skyblue\", edgecolor = \"black\");\n",
    "plt.grid(False)"
   ]
  },
  {
   "cell_type": "code",
   "execution_count": 121,
   "id": "7fe483e9",
   "metadata": {},
   "outputs": [
    {
     "data": {
      "text/plain": [
       "count    10000.000000\n",
       "mean         5.012800\n",
       "std          2.892174\n",
       "min          0.000000\n",
       "25%          3.000000\n",
       "50%          5.000000\n",
       "75%          7.000000\n",
       "max         10.000000\n",
       "Name: tempo_relacionamento, dtype: float64"
      ]
     },
     "execution_count": 121,
     "metadata": {},
     "output_type": "execute_result"
    }
   ],
   "source": [
    "df[\"tempo_relacionamento\"].describe()"
   ]
  },
  {
   "cell_type": "code",
   "execution_count": 137,
   "id": "6cac73f4",
   "metadata": {},
   "outputs": [
    {
     "data": {
      "image/png": "[encoded data removed]",
      "text/plain": [
       "<Figure size 640x480 with 1 Axes>"
      ]
     },
     "metadata": {},
     "output_type": "display_data"
    }
   ],
   "source": [
    "plt.hist(df[\"tempo_relacionamento\"], bins = 10, color = \"skyblue\", edgecolor = \"black\");\n",
    "plt.grid(False)"
   ]
  },
  {
   "cell_type": "code",
   "execution_count": 122,
   "id": "a775d936",
   "metadata": {},
   "outputs": [
    {
     "data": {
      "text/plain": [
       "count     10000.000000\n",
       "mean      76485.889288\n",
       "std       62397.405202\n",
       "min           0.000000\n",
       "25%           0.000000\n",
       "50%       97198.540000\n",
       "75%      127644.240000\n",
       "max      250898.090000\n",
       "Name: saldo, dtype: float64"
      ]
     },
     "execution_count": 122,
     "metadata": {},
     "output_type": "execute_result"
    }
   ],
   "source": [
    "df[\"saldo\"].describe()"
   ]
  },
  {
   "cell_type": "code",
   "execution_count": 139,
   "id": "8796deb5",
   "metadata": {},
   "outputs": [
    {
     "data": {
      "image/png": "[encoded data removed]",
      "text/plain": [
       "<Figure size 640x480 with 1 Axes>"
      ]
     },
     "metadata": {},
     "output_type": "display_data"
    }
   ],
   "source": [
    "plt.hist(df[\"saldo\"], bins = 30, color = \"skyblue\", edgecolor = \"black\");\n",
    "plt.grid(False)"
   ]
  },
  {
   "cell_type": "code",
   "execution_count": 123,
   "id": "815be0dc",
   "metadata": {},
   "outputs": [
    {
     "data": {
      "text/plain": [
       "count     10000.000000\n",
       "mean     100090.239881\n",
       "std       57510.492818\n",
       "min          11.580000\n",
       "25%       51002.110000\n",
       "50%      100193.915000\n",
       "75%      149388.247500\n",
       "max      199992.480000\n",
       "Name: salario_estimado, dtype: float64"
      ]
     },
     "execution_count": 123,
     "metadata": {},
     "output_type": "execute_result"
    }
   ],
   "source": [
    "df[\"salario_estimado\"].describe()"
   ]
  },
  {
   "cell_type": "code",
   "execution_count": 144,
   "id": "cfb9665e",
   "metadata": {},
   "outputs": [
    {
     "data": {
      "image/png": "[encoded data removed]",
      "text/plain": [
       "<Figure size 640x480 with 1 Axes>"
      ]
     },
     "metadata": {},
     "output_type": "display_data"
    }
   ],
   "source": [
    "plt.hist(df[\"salario_estimado\"], bins = 100, color = \"skyblue\", edgecolor = \"black\");\n",
    "plt.grid(False)"
   ]
  },
  {
   "cell_type": "code",
   "execution_count": null,
   "id": "e916cd49",
   "metadata": {},
   "outputs": [],
   "source": []
  },
  {
   "cell_type": "markdown",
   "id": "0504f25b",
   "metadata": {},
   "source": [
    "<div style=\"font-family: Montserrat; color:#14274C; background-color:#D2E0E9; border-radius:12px 12px;\">  <a id=\"7\"></a> \n",
    "\n",
    "## <p style=\"background-color:#14274C; font-family:Montserrat; color:#8BD5EA; font-size:80%; text-align:left; border-radius:10px 10px; margin-bottom: -25px; padding-left: 75px;\"><strong>7. INSIGHTS E CONCLUSÕES 📊</strong></p>\n",
    "\n",
    "- **Esta seção apresenta os principais insights e conclusões obtidos a partir da análise exploratória dos dados do Blue Bank. Os insights são derivados das respostas às perguntas de negócio formuladas anteriormente e são fundamentais para orientar as estratégias de retenção de clientes do banco.**\n",
    "\n",
    "- **Principais Insights:**\n",
    "    - 💡 **Insight 1:** Descrição do insight, incluindo quais dados foram analisados e quais resultados foram observados.\n",
    "    - 💡 **Insight 2:** Discussão sobre como um determinado atributo ou combinação de atributos afeta o churn dos clientes.\n",
    "    - 💡 **Insight 3:** Análise da influência de fatores demográficos ou comportamentais no comportamento de churn.\n",
    "    - 💡 **Outros insights relevantes derivados da análise.**\n",
    "\n",
    "- **Conclusões:**\n",
    "    - 💡 **Conclusão 1:** Sumário das implicações dos insights para as operações e estratégias do Blue Bank.\n",
    "    - 💡 **Conclusão 2:** Recomendações para ações específicas baseadas nos dados analisados.\n",
    "    - 💡 **Conclusão 3:** Sugestões para futuras análises ou áreas que requerem mais investigação detalhada.\n",
    "\n",
    "- **Impacto Potencial:**\n",
    "    - **Discutiremos o potencial impacto desses insights nas estratégias de retenção e crescimento do cliente, identificando oportunidades de melhoria e inovação.**"
   ]
  },
  {
   "cell_type": "markdown",
   "id": "40955271",
   "metadata": {},
   "source": [
    "<div style=\"font-family: Montserrat; color:#14274C; background-color:#D2E0E9; border-radius:12px 12px;\">  <a id=\"8\"></a> \n",
    "\n",
    "## <p style=\"background-color:#14274C; font-family:Montserrat; color:#8BD5EA; font-size:80%; text-align:left; border-radius:10px 10px; margin-bottom: -25px; padding-left: 75px;\"><strong>8. RECOMENDAÇÕES 📝</strong></p>\n",
    "\n",
    "- **Baseadas nos insights derivados da análise exploratória de dados, propomos as seguintes recomendações para o Blue Bank com o objetivo de melhorar a retenção de clientes e reduzir as taxas de churn:**\n",
    "\n",
    "    - 🎯 **Recomendação 1:** Implementar estratégias de engajamento direcionadas para grupos de clientes com alta probabilidade de churn identificados na análise, como jovens em faixas etárias específicas ou clientes com baixo número de produtos.\n",
    "    - 🌍 **Recomendação 2:** Desenvolver programas de fidelidade ou benefícios adicionais para clientes em regiões com maiores taxas de churn, como mostrado nos dados geográficos.\n",
    "    - 🔍 **Recomendação 3:** Oferecer serviços financeiros personalizados que atendam às necessidades específicas dos segmentos de clientes mais propensos a sair, com base na análise de dados sobre saldo, produtos e atividade.\n",
    "    - 📞 **Recomendação 4:** Aumentar a comunicação e o suporte ao cliente, especialmente para aqueles que demonstram sinais de inatividade ou descontentamento.\n",
    "    - 🔄 **Recomendação 5:** Utilizar análises preditivas para identificar sinais de churn precoce, permitindo intervenções proativas antes que o cliente decida sair.\n",
    "\n",
    "- **Essas recomendações são projetadas para serem implementadas de maneira faseada e avaliadas continuamente para eficácia, garantindo que o Blue Bank possa adaptar suas estratégias conforme necessário para maximizar a retenção de clientes.**"
   ]
  },
  {
   "cell_type": "markdown",
   "id": "85b4eddd",
   "metadata": {},
   "source": [
    "<div style=\"font-family: Montserrat; color:#14274C; background-color:#D2E0E9; border-radius:12px 12px;\">  <a id=\"9\"></a> \n",
    "\n",
    "## <p style=\"background-color:#14274C; font-family:Montserrat; color:#8BD5EA; font-size:80%; text-align:left; border-radius:10px 10px; margin-bottom: -25px; padding-left: 75px;\"><strong>9. CONCLUSÃO 🏁</strong></p>\n",
    "\n",
    "- **Esta seção final resume os insights chave e as ações recomendadas baseadas na análise exploratória de dados realizada. Refletimos sobre o impacto potencial dessas ações e consideramos os passos futuros para a continuação da melhoria das estratégias de retenção de clientes do Blue Bank.**\n",
    "\n",
    "- **Pontos Principais:**\n",
    "    - Sumário dos insights mais impactantes obtidos da análise.\n",
    "    - Avaliação da resposta às perguntas de negócio inicialmente propostas.\n",
    "    - Discussão sobre a eficácia das recomendações implementadas e sugestões para ajustes.\n",
    "\n",
    "- **Futuras Direções:**\n",
    "    - Propostas para estudos adicionais baseados em lacunas identificadas durante a análise.\n",
    "    - Tecnologias ou metodologias emergentes que podem ser exploradas em futuras atualizações do projeto.\n",
    "\n",
    "- **Agradecimentos:**\n",
    "    - Expressão de gratidão a todos os colaboradores e mentores que apoiaram o projeto."
   ]
  }
 ],
 "metadata": {
  "kernelspec": {
   "display_name": "Python 3 (ipykernel)",
   "language": "python",
   "name": "python3"
  },
  "language_info": {
   "codemirror_mode": {
    "name": "ipython",
    "version": 3
   },
   "file_extension": ".py",
   "mimetype": "text/x-python",
   "name": "python",
   "nbconvert_exporter": "python",
   "pygments_lexer": "ipython3",
   "version": "3.12.0"
  }
 },
 "nbformat": 4,
 "nbformat_minor": 5
}
